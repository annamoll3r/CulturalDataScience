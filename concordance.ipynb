{
 "cells": [
  {
   "cell_type": "markdown",
   "metadata": {},
   "source": [
    "# Build your own concordance\n",
    "\n",
    "It took 500 Dominican munks to write the first concordance of the Latin bible, and it took Rabbi Mordecai Nathan 10 years to write the first concordance of the Hebrew bible. With Python, it only takes a matter of seconds to find words in a text, along with the surrounding words.\n",
    "\n",
    "Run each cell in this notebook one at a time, in order. If something in one cell doesn't work right, it might be because you have overwritten a variable, so try going back and running all the previous cells again.\n",
    "\n",
    "First run the code and check that everything works. Then, try modifying the code. Start with the first challenges, and then continue in order. Feel free to work together, and see how far you can get. The important thing is to learn, not to solve all the challenges!"
   ]
  },
  {
   "cell_type": "code",
   "execution_count": 4,
   "metadata": {},
   "outputs": [
    {
     "name": "stdout",
     "output_type": "stream",
     "text": [
      "Collecting nltk\n",
      "  Downloading nltk-3.9.1-py3-none-any.whl.metadata (2.9 kB)\n",
      "Requirement already satisfied: click in /opt/conda/lib/python3.10/site-packages (from nltk) (8.1.7)\n",
      "Collecting joblib (from nltk)\n",
      "  Downloading joblib-1.4.2-py3-none-any.whl.metadata (5.4 kB)\n",
      "Collecting regex>=2021.8.3 (from nltk)\n",
      "  Downloading regex-2024.9.11-cp310-cp310-manylinux_2_17_x86_64.manylinux2014_x86_64.whl.metadata (40 kB)\n",
      "Requirement already satisfied: tqdm in /opt/conda/lib/python3.10/site-packages (from nltk) (4.66.2)\n",
      "Downloading nltk-3.9.1-py3-none-any.whl (1.5 MB)\n",
      "\u001b[2K   \u001b[90m━━━━━━━━━━━━━━━━━━━━━━━━━━━━━━━━━━━━━━━━\u001b[0m \u001b[32m1.5/1.5 MB\u001b[0m \u001b[31m9.9 MB/s\u001b[0m eta \u001b[36m0:00:00\u001b[0m\n",
      "\u001b[?25hDownloading regex-2024.9.11-cp310-cp310-manylinux_2_17_x86_64.manylinux2014_x86_64.whl (782 kB)\n",
      "\u001b[2K   \u001b[90m━━━━━━━━━━━━━━━━━━━━━━━━━━━━━━━━━━━━━━━━\u001b[0m \u001b[32m782.7/782.7 kB\u001b[0m \u001b[31m5.0 MB/s\u001b[0m eta \u001b[36m0:00:00\u001b[0m\n",
      "\u001b[?25hDownloading joblib-1.4.2-py3-none-any.whl (301 kB)\n",
      "Installing collected packages: regex, joblib, nltk\n",
      "Successfully installed joblib-1.4.2 nltk-3.9.1 regex-2024.9.11\n",
      "Note: you may need to restart the kernel to use updated packages.\n"
     ]
    }
   ],
   "source": [
    "# install the natural language toolkit package (nltk), which has a copy of several texts, \n",
    "#including the King James Bible\n",
    "\n",
    "%pip install nltk"
   ]
  },
  {
   "cell_type": "code",
   "execution_count": 5,
   "metadata": {},
   "outputs": [
    {
     "name": "stderr",
     "output_type": "stream",
     "text": [
      "[nltk_data] Downloading package gutenberg to /home/ucloud/nltk_data...\n",
      "[nltk_data]   Unzipping corpora/gutenberg.zip.\n"
     ]
    },
    {
     "data": {
      "text/plain": [
       "True"
      ]
     },
     "execution_count": 5,
     "metadata": {},
     "output_type": "execute_result"
    }
   ],
   "source": [
    "# import the nltk package so that it is accessible to Python, and download a collection of texts from Project Gutenberg\n",
    "import nltk\n",
    "nltk.download('gutenberg')"
   ]
  },
  {
   "cell_type": "code",
   "execution_count": 3,
   "metadata": {},
   "outputs": [],
   "source": [
    "# Create a variable called \"bible\" which contains the text of the King James bible.\n",
    "bible = nltk.corpus.gutenberg.raw('bible-kjv.txt')\n",
    "\n",
    "# make all characters lowercase\n",
    "bible = bible.lower()\n",
    "\n",
    "# remove the \"\\n\" characters, which indicate line breaks in the text (newlines)\n",
    "bible = bible.replace('\\n', ' ')\n",
    "\n",
    "# split up the text into a long list of individual words\n",
    "bible = bible.split(' ')"
   ]
  },
  {
   "cell_type": "code",
   "execution_count": 4,
   "metadata": {},
   "outputs": [],
   "source": [
    "# make a variable called \"concordance\", and fill it with every occurrence of the phrase \"this world\", and a few words preceeding and following \"this world\"\n",
    "concordance = []\n",
    "for i, val in enumerate(bible):\n",
    "    if val == \"world\":\n",
    "        if bible[i-1] == \"this\":\n",
    "            concordance.append(str(' '.join(bible[i-5:i+5])))"
   ]
  },
  {
   "cell_type": "code",
   "execution_count": 5,
   "metadata": {},
   "outputs": [
    {
     "data": {
      "text/plain": [
       "['for the children of this world are in their generation',\n",
       " 'them, the children of this world marry, and are given',\n",
       " 'hateth his life in this world shall keep it unto',\n",
       " 'shall the prince of this world be cast out. ',\n",
       " 'should depart out of this world unto the father, having',\n",
       " 'for the prince of this world cometh, and hath nothing',\n",
       " 'because the prince of this world is judged.  16:12',\n",
       " 'of the princes of this world knew: for had they',\n",
       " 'for the wisdom of this world is foolishness with god.',\n",
       " 'for the fashion of this world passeth away.  7:32',\n",
       " 'whom the god of this world hath blinded the minds',\n",
       " 'chosen the poor of this world rich in faith, and',\n",
       " 'saying, the kingdoms of this world are become the kingdoms']"
      ]
     },
     "execution_count": 5,
     "metadata": {},
     "output_type": "execute_result"
    }
   ],
   "source": [
    "# take a look at what the algorithm has found\n",
    "concordance"
   ]
  },
  {
   "cell_type": "code",
   "execution_count": 6,
   "metadata": {},
   "outputs": [
    {
     "data": {
      "text/plain": [
       "13"
      ]
     },
     "execution_count": 6,
     "metadata": {},
     "output_type": "execute_result"
    }
   ],
   "source": [
    "# let's see how many instances of the phrase \"this world\" were found\n",
    "len(concordance)\n"
   ]
  },
  {
   "cell_type": "markdown",
   "metadata": {},
   "source": [
    "Let's try again, but this time let's just search for \"world\" by itself, not \"this world\"."
   ]
  },
  {
   "cell_type": "code",
   "execution_count": 7,
   "metadata": {},
   "outputs": [],
   "source": [
    "concordance = []\n",
    "for i, val in enumerate(bible):\n",
    "    if val == \"world\":\n",
    "        concordance.append(str(' '.join(bible[i-5:i+5])))"
   ]
  },
  {
   "cell_type": "code",
   "execution_count": 8,
   "metadata": {},
   "outputs": [
    {
     "data": {
      "text/plain": [
       "['and he hath set the world upon them.  2:9',\n",
       " 'appeared, the foundations of the world were discovered, at the',\n",
       " 'him, all the earth: the world also shall be stable,',\n",
       " 'upon the face of the world in the earth. ',\n",
       " 'and he shall judge the world in righteousness, he shall',\n",
       " 'and the foundations of the world were discovered at thy',\n",
       " 'all the ends of the world shall remember and turn',\n",
       " 'all the inhabitants of the world stand in awe of',\n",
       " 'not tell thee: for the world is mine, and the',\n",
       " 'is thine: as for the world and the fulness thereof,',\n",
       " 'he hath girded himself: the world also is stablished, that',\n",
       " 'that the lord reigneth: the world also shall be established',\n",
       " 'earth: he shall judge the world with righteousness, and the',\n",
       " 'also he hath set the world in their heart, so',\n",
       " 'and i will punish the world for their evil, and',\n",
       " 'kingdoms; 14:17 that made the world as a wilderness, and',\n",
       " 'fill the face of the world with cities.  14:22',\n",
       " 'all the kingdoms of the world upon the face of',\n",
       " 'mourneth and fadeth away, the world languisheth and fadeth away,',\n",
       " 'earth, the inhabitants of the world will learn righteousness. ',\n",
       " 'have the inhabitants of the world fallen.  26:19 thy',\n",
       " 'fill the face of the world with fruit.  27:7',\n",
       " 'not be ashamed nor confounded world without end.  45:18',\n",
       " 'since the beginning of the world men have not heard,',\n",
       " 'power, he hath established the world by his wisdom, and',\n",
       " 'power, he hath established the world by his wisdom, and',\n",
       " 'this world, neither in the world to come.  12:33',\n",
       " ' 18:7 woe unto the world because of offences! for',\n",
       " 'be preached in all the world for a witness unto',\n",
       " 'since the beginning of the world to this time, no,',\n",
       " 'with persecutions; and in the world to come eternal life.',\n",
       " 'which have been since the world began: 1:71 that we',\n",
       " 'caesar augustus that all the world should be taxed. ',\n",
       " 'all the kingdoms of the world in a moment of',\n",
       " 'do the nations of the world seek after: and your',\n",
       " 'for the children of this world are in their generation',\n",
       " 'present time, and in the world to come life everlasting.',\n",
       " 'them, the children of this world marry, and are given',\n",
       " 'in the world, and the world was made by him,',\n",
       " 'made by him, and the world knew him not. ',\n",
       " 'not his son into the world to condemn the world;',\n",
       " 'the world; but that the world through him might be',\n",
       " 'alway ready.  7:7 the world cannot hate you; but',\n",
       " 'and i speak to the world those things which i',\n",
       " 'heareth.  9:32 since the world began was it not',\n",
       " 'ye prevail nothing? behold, the world is gone after him.',\n",
       " 'hateth his life in this world shall keep it unto',\n",
       " 'shall the prince of this world be cast out. ',\n",
       " 'should depart out of this world unto the father, having',\n",
       " 'spirit of truth; whom the world cannot receive, because it',\n",
       " 'a little while, and the world seeth me no more;',\n",
       " 'unto you: not as the world giveth, give i unto',\n",
       " 'for the prince of this world cometh, and hath nothing',\n",
       " ' 14:31 but that the world may know that i',\n",
       " 'another.  15:18 if the world hate you, ye know',\n",
       " 'were of the world, the world would love his own:',\n",
       " 'of the world, therefore the world hateth you.  15:20',\n",
       " 'come, he will reprove the world of sin, and of',\n",
       " 'because the prince of this world is judged.  16:12',\n",
       " 'weep and lament, but the world shall rejoice: and ye',\n",
       " 'have peace.  in the world ye shall have tribulation:',\n",
       " 'had with thee before the world was.  17:6 i',\n",
       " 'them thy word; and the world hath hated them, because',\n",
       " 'one in us: that the world may believe that thou',\n",
       " 'in one; and that the world may know that thou',\n",
       " '17:25 o righteous father, the world hath not known thee:',\n",
       " 'i suppose that even the world itself could not contain',\n",
       " 'his holy prophets since the world began.  3:22 for',\n",
       " 'these that have turned the world upside down are come',\n",
       " '17:24 god that made the world and all things therein,',\n",
       " 'which he will judge the world in righteousness by that',\n",
       " 'whom all asia and the world worshippeth.  19:28 and',\n",
       " 'from the creation of the world are clearly seen, being',\n",
       " 'be stopped, and all the world may become guilty before',\n",
       " 'was kept secret since the world began, 16:26 but now',\n",
       " 'the wisdom of god the world by wisdom knew not',\n",
       " 'the foolish things of the world to confound the wise;',\n",
       " 'the weak things of the world to confound the things',\n",
       " 'which god ordained before the world unto our glory: 2:8',\n",
       " 'of the princes of this world knew: for had they',\n",
       " 'for the wisdom of this world is foolishness with god.',\n",
       " 'the world? and if the world shall be judged by',\n",
       " 'for the fashion of this world passeth away.  7:32',\n",
       " 'eat no flesh while the world standeth, lest i make',\n",
       " 'whom the ends of the world are come.  10:12',\n",
       " 'whom the god of this world hath blinded the minds',\n",
       " 'was in christ, reconciling the world unto himself, not imputing',\n",
       " 'but the sorrow of the world worketh death.  7:11',\n",
       " 'jesus christ, by whom the world is crucified unto me,',\n",
       " 'from the beginning of the world hath been hid in',\n",
       " 'christ jesus throughout all ages, world without end. amen. ',\n",
       " 'christ jesus came into the world to save sinners; of',\n",
       " 'in christ jesus before the world began, 1:10 but is',\n",
       " 'cannot lie, promised before the world began; 1:3 but hath',\n",
       " 'not put in subjection the world to come, whereof we',\n",
       " 'and the powers of the world to come, 6:6 if',\n",
       " 'in the end of the world hath he appeared to',\n",
       " 'tormented; 11:38 (of whom the world was not worthy:) they',\n",
       " 'chosen the poor of this world rich in faith, and',\n",
       " 'tongue is a fire, a world of iniquity: so is',\n",
       " 'that the friendship of the world is enmity with god?',\n",
       " 'be a friend of the world is the enemy of',\n",
       " 'corruption that is in the world through lust.  1:5',\n",
       " 'in the flood upon the world of the ungodly; 2:6',\n",
       " 'escaped the pollutions of the world through the knowledge of',\n",
       " 'the water: 3:6 whereby the world that then was, being',\n",
       " 'world.  2:17 and the world passeth away, and the',\n",
       " 'sons of god: therefore the world knoweth us not, because',\n",
       " 'not, my brethren, if the world hate you.  3:14',\n",
       " 'of the world, and the world heareth them.  4:6',\n",
       " 'of god, and the whole world lieth in wickedness. ',\n",
       " 'saying, the kingdoms of this world are become the kingdoms',\n",
       " 'was healed: and all the world wondered after the beast.']"
      ]
     },
     "execution_count": 8,
     "metadata": {},
     "output_type": "execute_result"
    }
   ],
   "source": [
    "# take a look at what the algorithm has found\n",
    "concordance"
   ]
  },
  {
   "cell_type": "code",
   "execution_count": 9,
   "metadata": {},
   "outputs": [
    {
     "data": {
      "text/plain": [
       "113"
      ]
     },
     "execution_count": 9,
     "metadata": {},
     "output_type": "execute_result"
    }
   ],
   "source": [
    "# let's see how many instances of just the word \"world\" were found\n",
    "len(concordance)"
   ]
  },
  {
   "cell_type": "markdown",
   "metadata": {},
   "source": [
    "Now, in the cell below, modify the code to search for a different word."
   ]
  },
  {
   "cell_type": "code",
   "execution_count": 13,
   "metadata": {},
   "outputs": [],
   "source": [
    "# add your modified code here and run the cell...\n",
    "concordance = []\n",
    "for i, val in enumerate(bible):\n",
    "    if val == \"believe\":\n",
    "        concordance.append(str(' '.join(bible[i-5:i+5])))"
   ]
  },
  {
   "cell_type": "code",
   "execution_count": 15,
   "metadata": {},
   "outputs": [
    {
     "data": {
      "text/plain": [
       "['but, behold, they will not believe me, nor hearken unto',\n",
       " 'hand: 4:5 that they may believe that the lord god',\n",
       " 'pass, if they will not believe thee, neither hearken to',\n",
       " 'first sign, that they will believe the voice of the',\n",
       " 'pass, if they will not believe also these two signs,',\n",
       " 'i speak with thee, and believe thee for ever. ',\n",
       " 'will it be ere they believe me, for all the',\n",
       " 'this thing ye did not believe the lord your god,',\n",
       " 'their fathers, that did not believe in the lord their',\n",
       " 'and ye inhabitants of jerusalem; believe in the lord your',\n",
       " 'so shall ye be established; believe his prophets, so shall',\n",
       " 'on this manner, neither yet believe him: for no god',\n",
       " 'me; yet would i not believe that he had hearkened',\n",
       " 'him?  39:12 wilt thou believe him, that he will',\n",
       " '26:25 when he speaketh fair, believe him not: for there',\n",
       " 'that ye may know and believe me, and understand that',\n",
       " 'called a multitude after thee: believe them not, though they',\n",
       " 'and jesus saith unto them, believe ye that i am',\n",
       " 'of these little ones which believe in me, it were',\n",
       " 'why did ye not then believe him?  21:26 but',\n",
       " 'not afterward, that ye might believe him.  21:33 hear',\n",
       " 'here is christ, or there; believe it not.  24:24',\n",
       " 'is in the secret chambers; believe it not.  24:27',\n",
       " 'the cross, and we will believe him.  27:43 he',\n",
       " 'at hand: repent ye, and believe the gospel.  1:16',\n",
       " 'of these little ones that believe in me, it is',\n",
       " 'in his heart, but shall believe that those things which',\n",
       " 'ye desire, when ye pray, believe that ye receive them,',\n",
       " 'why then did ye not believe him?  11:32 but',\n",
       " 'or, lo, he is there; believe him not: 13:22 for',\n",
       " 'their hearts, lest they should believe and be saved. ',\n",
       " 'answered him, saying, fear not: believe only, and she shall',\n",
       " 'and slow of heart to believe all that the prophets',\n",
       " 'god, even to them that believe on his name: 1:13',\n",
       " 'you earthly things, and ye believe not, how shall ye',\n",
       " 'jesus saith unto her, woman, believe me, the hour cometh,',\n",
       " 'he hath sent, him ye believe not.  5:39 search',\n",
       " ' 5:47 but if ye believe not his writings, how',\n",
       " 'his writings, how shall ye believe my words?  6:1',\n",
       " 'work of god, that ye believe on him whom he',\n",
       " 'that we may see, and believe thee? what dost thou',\n",
       " 'also have seen me, and believe not.  6:37 all',\n",
       " 'are some of you that believe not. for jesus knew',\n",
       " 'life.  6:69 and we believe and are sure that',\n",
       " 'for neither did his brethren believe in him.  7:6',\n",
       " 'the spirit, which they that believe on him should receive:',\n",
       " 'your sins: for if ye believe not that i am',\n",
       " 'tell you the truth, ye believe me not.  8:46',\n",
       " 'truth, why do ye not believe me?  8:47 he',\n",
       " 'but the jews did not believe concerning him, that he',\n",
       " 'said unto him, dost thou believe on the son of',\n",
       " 'he, lord, that i might believe on him?  9:37',\n",
       " 'me.  10:26 but ye believe not, because ye are',\n",
       " 'the works of my father, believe me not.  10:38',\n",
       " 'if i do, though ye believe not me, believe the',\n",
       " 'though ye believe not me, believe the works: that ye',\n",
       " 'unto him, yea, lord: i believe that thou art the',\n",
       " 'said it, that they may believe that thou hast sent',\n",
       " 'thus alone, all men will believe on him: and the',\n",
       " '12:36 while ye have light, believe in the light, that',\n",
       " 'man hear my words, and believe not, i judge him',\n",
       " 'come to pass, ye may believe that i am he.',\n",
       " 'your heart be troubled: ye believe in god, believe also',\n",
       " 'troubled: ye believe in god, believe also in me. ',\n",
       " 'doeth the works.  14:11 believe me that i am',\n",
       " 'father in me: or else believe me for the very',\n",
       " '16:9 of sin, because they believe not on me; 16:10',\n",
       " 'ask thee: by this we believe that thou camest forth',\n",
       " 'for them also which shall believe on me through their',\n",
       " 'us: that the world may believe that thou hast sent',\n",
       " 'are written, that ye might believe that jesus is the',\n",
       " 'he answered and said, i believe that jesus christ is',\n",
       " 'and by him all that believe are justified from all',\n",
       " 'to bear? 15:11 but we believe that through the grace',\n",
       " ' 16:31 and they said, believe on the lord jesus',\n",
       " 'the people, that they should believe on him which should',\n",
       " 'of good cheer: for i believe god, that it shall',\n",
       " 'shall be imputed, if we believe on him that raised',\n",
       " 'be dead with christ, we believe that we shall also',\n",
       " 'the lord jesus, and shalt believe in thine heart that',\n",
       " 'believed? and how shall they believe in him of whom',\n",
       " 'from them that do not believe in judaea; and that',\n",
       " 'if any of them that believe not bid you to',\n",
       " 'among you; and i partly believe it.  11:19 for',\n",
       " 'believe, but to them that believe not: but prophesying serveth',\n",
       " 'serveth not for them that believe not, but for them',\n",
       " 'the minds of them which believe not, lest the light',\n",
       " 'of christ, not only to believe on him, but also',\n",
       " 'were ensamples to all that believe in macedonia and achaia.',\n",
       " ' 4:14 for if we believe that jesus died and',\n",
       " 'admired in all them that believe (because our testimony among',\n",
       " 'strong delusion, that they should believe a lie: 2:12 that',\n",
       " 'to them which should hereafter believe on him to life',\n",
       " 'with thanksgiving of them which believe and know the truth.',\n",
       " 'deny us: 2:13 if we believe not, yet he abideth',\n",
       " 'perdition; but of them that believe to the saving of',\n",
       " 'that cometh to god must believe that he is, and',\n",
       " '1:21 who by him do believe in god, that raised',\n",
       " '2:7 unto you therefore which believe he is precious: but',\n",
       " 'his commandment, that we should believe on the name of',\n",
       " 'given us.  4:1 beloved, believe not every spirit, but',\n",
       " 'i written unto you that believe on the name of',\n",
       " 'life, and that ye may believe on the name of']"
      ]
     },
     "execution_count": 15,
     "metadata": {},
     "output_type": "execute_result"
    }
   ],
   "source": [
    "#see the results\n",
    "concordance"
   ]
  },
  {
   "cell_type": "code",
   "execution_count": 16,
   "metadata": {},
   "outputs": [
    {
     "data": {
      "text/plain": [
       "103"
      ]
     },
     "execution_count": 16,
     "metadata": {},
     "output_type": "execute_result"
    }
   ],
   "source": [
    "len(concordance)"
   ]
  },
  {
   "cell_type": "markdown",
   "metadata": {},
   "source": [
    "The nltk package has the full text of several other classic books. You can see what they are called by running the command in the cell below:"
   ]
  },
  {
   "cell_type": "code",
   "execution_count": 17,
   "metadata": {},
   "outputs": [
    {
     "data": {
      "text/plain": [
       "['austen-emma.txt',\n",
       " 'austen-persuasion.txt',\n",
       " 'austen-sense.txt',\n",
       " 'bible-kjv.txt',\n",
       " 'blake-poems.txt',\n",
       " 'bryant-stories.txt',\n",
       " 'burgess-busterbrown.txt',\n",
       " 'carroll-alice.txt',\n",
       " 'chesterton-ball.txt',\n",
       " 'chesterton-brown.txt',\n",
       " 'chesterton-thursday.txt',\n",
       " 'edgeworth-parents.txt',\n",
       " 'melville-moby_dick.txt',\n",
       " 'milton-paradise.txt',\n",
       " 'shakespeare-caesar.txt',\n",
       " 'shakespeare-hamlet.txt',\n",
       " 'shakespeare-macbeth.txt',\n",
       " 'whitman-leaves.txt']"
      ]
     },
     "execution_count": 17,
     "metadata": {},
     "output_type": "execute_result"
    }
   ],
   "source": [
    "nltk.corpus.gutenberg.fileids()"
   ]
  },
  {
   "cell_type": "markdown",
   "metadata": {},
   "source": [
    "## Your turn!\n",
    "\n",
    "Here are a some more things you can try. In each case, I have given you a little bit of starter code to get you going, but the cells will not run without some additional code from you.\n"
   ]
  },
  {
   "cell_type": "markdown",
   "metadata": {},
   "source": [
    "\n",
    "\n",
    "## Challenge 1: build your own concordance\n",
    "\n",
    "Pick a different book and a different word, or pair of words. Copy and paste from the code above to write some Python code that searches the book of your choice for the word or pair of words of your choice. Put this code in the cell below. By the way, some of the texts use the characters \"\\r\" for \"carriage return\" instead of \"\\n\" for \"newline\". You can remove these the same way that you remove the \"\\n\" characters."
   ]
  },
  {
   "cell_type": "code",
   "execution_count": 37,
   "metadata": {},
   "outputs": [],
   "source": [
    "# add your code to search for a word or pair of words in a different book here\n",
    "# we chose moby dick\n",
    "\n",
    "moby = nltk.corpus.gutenberg.raw('melville-moby_dick.txt')\n",
    "\n",
    "# make all characters lowercase\n",
    "moby = moby.lower()\n",
    "\n",
    "# remove the \"\\n\" characters, which indicate line breaks in the text (newlines)\n",
    "moby = moby.replace('\\n',' ')\n",
    "moby = moby.replace('\\r',' ')\n",
    "\n",
    "# split up the text into a long list of individual words\n",
    "moby = moby.split(' ')"
   ]
  },
  {
   "cell_type": "code",
   "execution_count": 38,
   "metadata": {},
   "outputs": [],
   "source": [
    "#more code for moby dick\n",
    "concordance_moby = []\n",
    "for i, val in enumerate(moby):\n",
    "    if val == \"whale\":\n",
    "        if moby[i-1] == \"this\":\n",
    "            concordance_moby.append(str(' '.join(moby[i-5:i+5])))"
   ]
  },
  {
   "cell_type": "code",
   "execution_count": 39,
   "metadata": {},
   "outputs": [
    {
     "data": {
      "text/plain": [
       "['(folio), chapter v. (razor-back).--of this whale little is  known',\n",
       " ' his face.  this whale averages some sixteen or',\n",
       " '(octavo), chapter iv. (killer).--of this whale little is  precisely',\n",
       " ' this man and this whale again came  together,',\n",
       " \"all beale's drawings of this whale are good, excepting the\",\n",
       " \"with him, i'll eat this whale  in one mouthful.\",\n",
       " \"a ship's jib-boom.  this whale is  not dead;\",\n",
       " 'manner.  but if this whale be a king, he',\n",
       " 'inclined plane!  hurrah! this whale carries the  everlasting',\n",
       " ' and as for this whale spout, you might ',\n",
       " 'of the fishery,  this whale had become entangled in',\n",
       " 'many hours  hence this whale will have gone two']"
      ]
     },
     "execution_count": 39,
     "metadata": {},
     "output_type": "execute_result"
    }
   ],
   "source": [
    "#the brackets? maybe footnotes?\n",
    "concordance_moby"
   ]
  },
  {
   "cell_type": "code",
   "execution_count": 40,
   "metadata": {},
   "outputs": [
    {
     "data": {
      "text/plain": [
       "12"
      ]
     },
     "execution_count": 40,
     "metadata": {},
     "output_type": "execute_result"
    }
   ],
   "source": [
    "len(concordance_moby)"
   ]
  },
  {
   "cell_type": "code",
   "execution_count": 41,
   "metadata": {},
   "outputs": [],
   "source": [
    "concordance_moby = []\n",
    "for i, val in enumerate(moby):\n",
    "    if val == \"sea\":\n",
    "        concordance_moby.append(str(' '.join(moby[i-5:i+5])))"
   ]
  },
  {
   "cell_type": "code",
   "execution_count": 42,
   "metadata": {
    "scrolled": true
   },
   "outputs": [
    {
     "data": {
      "text/plain": [
       "['   \"the indian sea breedeth the most and',\n",
       " 'all sides, and beating the sea  before him into',\n",
       " 'progress.    \"that sea beast  leviathan, which',\n",
       " 'whales which swim in a sea of water, and have',\n",
       " 'of water, and have a sea of  oil swimming',\n",
       " '  \"whales in the sea god\\'s voice obey.\" --n.',\n",
       " 'them, that when out at sea they are afraid to',\n",
       " 'the first of may, the sea being then covered with',\n",
       " 'high time to get to sea as soon  as',\n",
       " 'the old persians hold the sea holy?  why did',\n",
       " 'the habit of going to sea whenever i  begin',\n",
       " 'that i ever go to sea as  a passenger.',\n",
       " 'do i ever go to sea  as a commodore,',\n",
       " 'again, i always go to sea as a sailor, because',\n",
       " 'finally, i always go to sea as a sailor, because',\n",
       " 'after having repeatedly smelt the sea  as a merchant',\n",
       " \"dart you through.--it's the black sea in a  midnight\",\n",
       " '  a tramping of sea boots was heard in',\n",
       " 'candle on a crazy old sea  chest that did',\n",
       " 'his keeping his arm at sea unmethodically  in sun',\n",
       " 'and  third mates, and sea carpenters, and sea coopers,',\n",
       " 'mates, and sea carpenters, and sea coopers, and sea ',\n",
       " 'carpenters, and sea coopers, and sea  blacksmiths, and harpooneers,',\n",
       " 'ship that is foundering at sea in a fog--in such',\n",
       " 'all the slime of the sea is  about us!',\n",
       " 'was jonah.  but the sea rebels; he  will',\n",
       " \"heaven who hath made the sea and the dry land!'\",\n",
       " 'from the east, and the sea  is still, as',\n",
       " 'deliverance of him from the sea and the whale. ',\n",
       " 'this fine young  savage--this sea prince of wales, never',\n",
       " 'he answered, to go to sea again, in his old',\n",
       " 'gentleman, at least for a sea  captain--this commander was',\n",
       " 'the magnanimity  of the sea which will permit no',\n",
       " 'as to the backs of sea turtles.  but these',\n",
       " 'should  take to the sea for a livelihood! ',\n",
       " 'have these naked nantucketers, these sea hermits, issuing  from',\n",
       " \" nantucketer's.  for the sea is his; he owns\",\n",
       " 'and privateers, though following the sea as highwaymen the ',\n",
       " \" sure, ye've been to sea before now; sure \",\n",
       " ' something of the salt sea yet lingered in old',\n",
       " 'against the side; and every sea breaking  over us,',\n",
       " 'of in the old south sea voyages, those things were',\n",
       " 'this ivory leg had at sea been fashioned  from',\n",
       " 'dead wintry bleakness of the sea had then kept him',\n",
       " 'into the bottom of the sea  after them; to',\n",
       " 'from the leviathanic brotherhood any sea creature hitherto identified ',\n",
       " 'been seen almost in every sea and is commonly the',\n",
       " 'surface.  when  the sea is moderately calm, and',\n",
       " 'the  bottom of the sea for food.  charley',\n",
       " 'shoals, which upon the broad sea keep  tossing themselves',\n",
       " 'grand political maxim of the sea demands, that he ',\n",
       " 'the stray narwhales, or vagrant sea  unicorns infesting those',\n",
       " ' foremost through the sparkling sea shoots on the gay,',\n",
       " \"portuguese sailor.  how the sea rolls swashing 'gainst the\",\n",
       " 'to.  and as the sea surpasses the land in',\n",
       " 'of his undeniable delirium at sea was likewise popularly ',\n",
       " 'the name of the white sea exert  such a',\n",
       " 'while that of the yellow sea  lulls us with',\n",
       " 'ship sailing through a midnight sea of milky  whiteness--as',\n",
       " \"quakeress's knitting-needles fifty miles at sea from nantucket;  you're\",\n",
       " 'large wrinkled roll of yellowish sea  charts, spread them',\n",
       " 'to the bottom of the sea by the sounding ',\n",
       " 'in the neighboring propontis, or sea of marmora, after having',\n",
       " ' boats swung over the sea like three samphire baskets',\n",
       " ' every roll of the sea harmoniously rolled his fine',\n",
       " 'be seen.  the rising sea forbade all  attempts',\n",
       " ' all sprang into the sea as the ship at',\n",
       " 'found tossing about the open sea on planks, bits ',\n",
       " 'was this: the wind and sea betokened storms.  but',\n",
       " 'creature on land or on sea that you can conveniently',\n",
       " \"sweeping a ship's deck at sea is a piece of\",\n",
       " 'radney still turns to the sea which refuses  to',\n",
       " 'only to be seen at sea in unfathomable waters; and',\n",
       " 'black weedy bulk in the sea like some mossy rock-slide',\n",
       " 'the great bowels below.  sea fowls  are pecking',\n",
       " 'small crabs, shell-fish, and other sea candies and  maccaroni,',\n",
       " 'the glassy level of a sea becalmed, the drooping unstarched',\n",
       " 'in that gallery, are these sea battle-pieces of garnery. ',\n",
       " ' of the noble south sea war-wood, are frequently met',\n",
       " ' *that part of the sea known among whalemen as',\n",
       " 'repelling; though we know the sea to be an everlasting',\n",
       " 'the crack of doom, the sea  will insult and',\n",
       " 'full awfulness  of the sea which aboriginally belongs to',\n",
       " '  wherein differ the sea and the land, that',\n",
       " 'the same manner the live sea swallows up ships ',\n",
       " 'but not only is the sea such a foe to',\n",
       " 'her own cubs, so the sea dashes even the mightiest',\n",
       " 'earth; consider them both, the sea and the land; and',\n",
       " 'thought the whole  round sea was one huge cheese,',\n",
       " 'red oxen to the  sea gods.   ',\n",
       " 'rifle-shot off, and an incorruptible sea  and air rolling',\n",
       " 'she heavily forged through the sea (for by  this',\n",
       " 'of the isles of the sea and vicar-general of all',\n",
       " 'was mentioned, and the crazy sea that  seemed leagued',\n",
       " 'his descent, fell into the sea at the distance of',\n",
       " 'down there, flask\"--pointing into the sea with a peculiar motion',\n",
       " 'much heavier than  the sea water, and a lump',\n",
       " 'crawled up out of the sea on the beach; and',\n",
       " 'swimming through the mid-day  sea in a calm, with',\n",
       " 'the tails of all other sea creatures.  it ',\n",
       " ' islands of that oriental sea are enriched, it seems',\n",
       " 'to moby dick, in the sea he was most known',\n",
       " ' on both sides the sea came in at the',\n",
       " 'this central expanse  the sea presented that smooth satin-like',\n",
       " 'and blood rivallingly discolour the sea for  rods. ',\n",
       " 'out their  oil at sea as the southern ships',\n",
       " 'quite different with a south sea  sperm whaler; which',\n",
       " 'bounteous, blue day; the spangled sea calm and  cool,',\n",
       " 'said he was.  the sea had jeeringly kept his',\n",
       " 'wind howled on, and the sea leaped, and the ship',\n",
       " 'into the blackness of the sea and the night, and',\n",
       " 'board of any vessel at sea but  his own,',\n",
       " ' cripple to use their sea bannisters.  but this',\n",
       " 'from the bottom of the sea a bouncing great ',\n",
       " 'fish.  but a combing sea dashed me off, ',\n",
       " 'cable for the great south sea of the other ',\n",
       " 'it being taken across the sea to owen, the english',\n",
       " 'all the isles of the sea  combined.  ',\n",
       " 'reeled and rolled in the sea like an air-freighted demijohn.',\n",
       " 'swaying hammock, and the rolling sea seemed  gently rocking',\n",
       " 'must ever after be the sea of his adoption. ',\n",
       " 'new found sea;  that sea in which the hated',\n",
       " 'floating in the lovely sunset sea and  sky, sun',\n",
       " 'darkness came on, sky and sea roared and split with',\n",
       " 'the wreck,  \"but the sea will have its way.',\n",
       " 'the kindred rod which at sea  some ships carry',\n",
       " 'instant, as a  swashing sea heaved up under his',\n",
       " \" whale-boat's bow; but the sea that had stove its\",\n",
       " ' next morning the not-yet-subsided sea rolled in long slow',\n",
       " 'reigned over everything.  the sea was as a crucible',\n",
       " 'and now the mad  sea parts the log-line. ',\n",
       " 'are no caps  at sea but snow-caps.  let',\n",
       " 'search; by sailing over the sea some four or five',\n",
       " 'ahab gazed abroad upon the sea for  miles and',\n",
       " 'no foothold, the sailor at sea  is hoisted up',\n",
       " 'the firmaments of air and sea were  hardly separable',\n",
       " 'the robust  and man-like sea heaved with long, strong,',\n",
       " 'better than to gaze into sea or sky; better than',\n",
       " 'fiercely,  snuffing up the sea air as a sagacious',\n",
       " 'a long sleek on the sea  directly and lengthwise',\n",
       " 'at every roll of the sea  revealing his high',\n",
       " 'distinctly visible, sliding along the sea as  if an',\n",
       " 'the breeze now freshened; the sea began to swell. ',\n",
       " 'the\"--but that moment a breaking sea dashed on him ',\n",
       " 'means unprecedented in the south sea fishery.  for ',\n",
       " 'end, the wind and the sea  must be the',\n",
       " 'such a furrow in the sea as when a ',\n",
       " 'the baser currents of the sea  may turn and',\n",
       " ' great shroud of the sea rolled on as it']"
      ]
     },
     "execution_count": 42,
     "metadata": {},
     "output_type": "execute_result"
    }
   ],
   "source": [
    "concordance_moby"
   ]
  },
  {
   "cell_type": "code",
   "execution_count": 43,
   "metadata": {},
   "outputs": [
    {
     "data": {
      "text/plain": [
       "149"
      ]
     },
     "execution_count": 43,
     "metadata": {},
     "output_type": "execute_result"
    }
   ],
   "source": [
    "len(concordance_moby)"
   ]
  },
  {
   "cell_type": "markdown",
   "metadata": {},
   "source": [
    "## Challenge 2: compare lengths of books\n",
    "\n",
    "We can use the command `len` to find how many items there are in a list. E.g., to find the number of words in the list called `bible`, above, we can write: `len(bible)`. \n",
    "\n",
    "Use the starter code below to find out which book in the books included in `nltk` has the most words."
   ]
  },
  {
   "cell_type": "code",
   "execution_count": 103,
   "metadata": {},
   "outputs": [
    {
     "name": "stdout",
     "output_type": "stream",
     "text": [
      "austen-emma.txt = 164457\n",
      "austen-persuasion.txt = 86270\n",
      "austen-sense.txt = 123514\n",
      "bible-kjv.txt = 848001\n",
      "blake-poems.txt = 8886\n",
      "bryant-stories.txt = 54942\n",
      "burgess-busterbrown.txt = 17976\n",
      "carroll-alice.txt = 28387\n",
      "chesterton-ball.txt = 86481\n",
      "chesterton-brown.txt = 80382\n",
      "chesterton-thursday.txt = 59297\n",
      "edgeworth-parents.txt = 195982\n",
      "melville-moby_dick.txt = 243947\n",
      "milton-paradise.txt = 91832\n",
      "shakespeare-caesar.txt = 23339\n",
      "shakespeare-hamlet.txt = 33477\n",
      "shakespeare-macbeth.txt = 20164\n",
      "whitman-leaves.txt = 138730\n"
     ]
    }
   ],
   "source": [
    "# solution 1: print all the titles and numbers of words\n",
    "# starter code:\n",
    "\n",
    "books = nltk.corpus.gutenberg.fileids()\n",
    "\n",
    "for title in books:\n",
    "    book = nltk.corpus.gutenberg.raw(title)\n",
    "    book = book.lower()\n",
    "    book = book.replace('\\n',' ')\n",
    "    book = book.replace('\\r',' ')\n",
    "    book = book.split(' ')\n",
    "    len(book)\n",
    "    print(title, '=', len(book))"
   ]
  },
  {
   "cell_type": "code",
   "execution_count": 104,
   "metadata": {},
   "outputs": [],
   "source": [
    "#The bible has the most words"
   ]
  },
  {
   "cell_type": "code",
   "execution_count": 105,
   "metadata": {},
   "outputs": [],
   "source": [
    "#we did this before we figured out the loop:)\n",
    "emma = nltk.corpus.gutenberg.raw('austen-emma.txt')\n",
    "persuasion = nltk.corpus.gutenberg.raw('austen-persuasion.txt')\n",
    "sense = nltk.corpus.gutenberg.raw('austen-sense.txt')\n",
    "poems = nltk.corpus.gutenberg.raw('blake-poems.txt')\n",
    "stories = nltk.corpus.gutenberg.raw('bryant-stories.txt')\n",
    "busterbrown = nltk.corpus.gutenberg.raw('burgess-busterbrown.txt')\n",
    "alice = nltk.corpus.gutenberg.raw('carroll-alice.txt')\n",
    "ball = nltk.corpus.gutenberg.raw('chesterton-ball.txt')\n",
    "brown = nltk.corpus.gutenberg.raw('chesterton-brown.txt')\n",
    "thursday = nltk.corpus.gutenberg.raw('chesterton-thursday.txt')\n",
    "parents = nltk.corpus.gutenberg.raw('edgeworth-parents.txt')\n",
    "moby_dick = nltk.corpus.gutenberg.raw('melville-moby_dick.txt')\n",
    "paradise = nltk.corpus.gutenberg.raw('milton-paradise.txt')\n",
    "caesar = nltk.corpus.gutenberg.raw('shakespeare-caesar.txt')\n",
    "hamlet = nltk.corpus.gutenberg.raw('shakespeare-hamlet.txt')\n",
    "macbeth = nltk.corpus.gutenberg.raw('shakespeare-macbeth.txt')\n",
    "leaves = nltk.corpus.gutenberg.raw('whitman-leaves.txt')"
   ]
  },
  {
   "cell_type": "code",
   "execution_count": 174,
   "metadata": {},
   "outputs": [
    {
     "name": "stdout",
     "output_type": "stream",
     "text": [
      "[['bible', 'emma', 'persuasion', 'sense', 'poems', 'stories', 'busterbrown', 'alice', 'ball', 'brown', 'thursday', 'parents', 'moby', 'paradise', 'caesar', 'hamlet', 'macbeth', 'leaves'], [848001, 887071, 466292, 673022, 38153, 249439, 84663, 144395, 457450, 406629, 320525, 935158, 243947, 468220, 112310, 162881, 100351, 711215]]\n"
     ]
    }
   ],
   "source": [
    "# more advanced, for those with some Python experience, or those who want to google around..\n",
    "# solution 2: make a list of titles and a list of wordcounts, zip them together, then sort them based on wordcount\n",
    "# starter code:\n",
    "\n",
    "books = nltk.corpus.gutenberg.fileids()\n",
    "\n",
    "titles = ['bible', 'emma', 'persuasion', 'sense', 'poems', 'stories', 'busterbrown', 'alice', 'ball', 'brown', 'thursday', 'parents', 'moby', 'paradise', 'caesar', 'hamlet', 'macbeth', 'leaves']\n",
    "\n",
    "numwords = [len(bible), len(emma), len(persuasion), len(sense), len(poems), len(stories), len(busterbrown), len(alice), len(ball), len(brown), len(thursday), len(parents), len(moby), len(paradise), len(caesar), len(hamlet), len(macbeth), len(leaves)]\n",
    "for title in books:\n",
    "    book = nltk.corpus.gutenberg.raw(title)\n",
    "\n",
    "titles_and_numword = [titles, numwords]\n",
    "print(titles_and_numword)\n"
   ]
  },
  {
   "cell_type": "code",
   "execution_count": 175,
   "metadata": {},
   "outputs": [],
   "source": [
    "books = nltk.corpus.gutenberg.fileids()\n",
    "\n",
    "#remember to put the list outside of the loop! Otherwise it will be overwritten within the loop\n",
    "\n",
    "titles = []\n",
    "numwords = []\n",
    "\n",
    "for title in books:\n",
    "    book = nltk.corpus.gutenberg.raw(title)\n",
    "    book = book.lower()\n",
    "    book = book.replace('\\n',' ')\n",
    "    book = book.replace('\\r',' ')\n",
    "    book = book.split(' ')\n",
    "    titles.append(title)\n",
    "    numwords.append(len(book))\n",
    "\n"
   ]
  },
  {
   "cell_type": "code",
   "execution_count": 176,
   "metadata": {},
   "outputs": [],
   "source": [
    "import pandas as pd\n",
    "\n",
    "df = pd.DataFrame(\n",
    "    {'titles': titles,\n",
    "     'numwords': numwords,\n",
    "    })"
   ]
  },
  {
   "cell_type": "code",
   "execution_count": 177,
   "metadata": {},
   "outputs": [
    {
     "data": {
      "text/html": [
       "<div>\n",
       "<style scoped>\n",
       "    .dataframe tbody tr th:only-of-type {\n",
       "        vertical-align: middle;\n",
       "    }\n",
       "\n",
       "    .dataframe tbody tr th {\n",
       "        vertical-align: top;\n",
       "    }\n",
       "\n",
       "    .dataframe thead th {\n",
       "        text-align: right;\n",
       "    }\n",
       "</style>\n",
       "<table border=\"1\" class=\"dataframe\">\n",
       "  <thead>\n",
       "    <tr style=\"text-align: right;\">\n",
       "      <th></th>\n",
       "      <th>titles</th>\n",
       "      <th>numwords</th>\n",
       "    </tr>\n",
       "  </thead>\n",
       "  <tbody>\n",
       "    <tr>\n",
       "      <th>0</th>\n",
       "      <td>austen-emma.txt</td>\n",
       "      <td>164457</td>\n",
       "    </tr>\n",
       "    <tr>\n",
       "      <th>1</th>\n",
       "      <td>austen-persuasion.txt</td>\n",
       "      <td>86270</td>\n",
       "    </tr>\n",
       "    <tr>\n",
       "      <th>2</th>\n",
       "      <td>austen-sense.txt</td>\n",
       "      <td>123514</td>\n",
       "    </tr>\n",
       "    <tr>\n",
       "      <th>3</th>\n",
       "      <td>bible-kjv.txt</td>\n",
       "      <td>848001</td>\n",
       "    </tr>\n",
       "    <tr>\n",
       "      <th>4</th>\n",
       "      <td>blake-poems.txt</td>\n",
       "      <td>8886</td>\n",
       "    </tr>\n",
       "    <tr>\n",
       "      <th>5</th>\n",
       "      <td>bryant-stories.txt</td>\n",
       "      <td>54942</td>\n",
       "    </tr>\n",
       "    <tr>\n",
       "      <th>6</th>\n",
       "      <td>burgess-busterbrown.txt</td>\n",
       "      <td>17976</td>\n",
       "    </tr>\n",
       "    <tr>\n",
       "      <th>7</th>\n",
       "      <td>carroll-alice.txt</td>\n",
       "      <td>28387</td>\n",
       "    </tr>\n",
       "    <tr>\n",
       "      <th>8</th>\n",
       "      <td>chesterton-ball.txt</td>\n",
       "      <td>86481</td>\n",
       "    </tr>\n",
       "    <tr>\n",
       "      <th>9</th>\n",
       "      <td>chesterton-brown.txt</td>\n",
       "      <td>80382</td>\n",
       "    </tr>\n",
       "    <tr>\n",
       "      <th>10</th>\n",
       "      <td>chesterton-thursday.txt</td>\n",
       "      <td>59297</td>\n",
       "    </tr>\n",
       "    <tr>\n",
       "      <th>11</th>\n",
       "      <td>edgeworth-parents.txt</td>\n",
       "      <td>195982</td>\n",
       "    </tr>\n",
       "    <tr>\n",
       "      <th>12</th>\n",
       "      <td>melville-moby_dick.txt</td>\n",
       "      <td>243947</td>\n",
       "    </tr>\n",
       "    <tr>\n",
       "      <th>13</th>\n",
       "      <td>milton-paradise.txt</td>\n",
       "      <td>91832</td>\n",
       "    </tr>\n",
       "    <tr>\n",
       "      <th>14</th>\n",
       "      <td>shakespeare-caesar.txt</td>\n",
       "      <td>23339</td>\n",
       "    </tr>\n",
       "    <tr>\n",
       "      <th>15</th>\n",
       "      <td>shakespeare-hamlet.txt</td>\n",
       "      <td>33477</td>\n",
       "    </tr>\n",
       "    <tr>\n",
       "      <th>16</th>\n",
       "      <td>shakespeare-macbeth.txt</td>\n",
       "      <td>20164</td>\n",
       "    </tr>\n",
       "    <tr>\n",
       "      <th>17</th>\n",
       "      <td>whitman-leaves.txt</td>\n",
       "      <td>138730</td>\n",
       "    </tr>\n",
       "  </tbody>\n",
       "</table>\n",
       "</div>"
      ],
      "text/plain": [
       "                     titles  numwords\n",
       "0           austen-emma.txt    164457\n",
       "1     austen-persuasion.txt     86270\n",
       "2          austen-sense.txt    123514\n",
       "3             bible-kjv.txt    848001\n",
       "4           blake-poems.txt      8886\n",
       "5        bryant-stories.txt     54942\n",
       "6   burgess-busterbrown.txt     17976\n",
       "7         carroll-alice.txt     28387\n",
       "8       chesterton-ball.txt     86481\n",
       "9      chesterton-brown.txt     80382\n",
       "10  chesterton-thursday.txt     59297\n",
       "11    edgeworth-parents.txt    195982\n",
       "12   melville-moby_dick.txt    243947\n",
       "13      milton-paradise.txt     91832\n",
       "14   shakespeare-caesar.txt     23339\n",
       "15   shakespeare-hamlet.txt     33477\n",
       "16  shakespeare-macbeth.txt     20164\n",
       "17       whitman-leaves.txt    138730"
      ]
     },
     "execution_count": 177,
     "metadata": {},
     "output_type": "execute_result"
    }
   ],
   "source": [
    "df"
   ]
  },
  {
   "cell_type": "code",
   "execution_count": 179,
   "metadata": {},
   "outputs": [
    {
     "data": {
      "text/html": [
       "<div>\n",
       "<style scoped>\n",
       "    .dataframe tbody tr th:only-of-type {\n",
       "        vertical-align: middle;\n",
       "    }\n",
       "\n",
       "    .dataframe tbody tr th {\n",
       "        vertical-align: top;\n",
       "    }\n",
       "\n",
       "    .dataframe thead th {\n",
       "        text-align: right;\n",
       "    }\n",
       "</style>\n",
       "<table border=\"1\" class=\"dataframe\">\n",
       "  <thead>\n",
       "    <tr style=\"text-align: right;\">\n",
       "      <th></th>\n",
       "      <th>titles</th>\n",
       "      <th>numwords</th>\n",
       "    </tr>\n",
       "  </thead>\n",
       "  <tbody>\n",
       "    <tr>\n",
       "      <th>3</th>\n",
       "      <td>bible-kjv.txt</td>\n",
       "      <td>848001</td>\n",
       "    </tr>\n",
       "    <tr>\n",
       "      <th>12</th>\n",
       "      <td>melville-moby_dick.txt</td>\n",
       "      <td>243947</td>\n",
       "    </tr>\n",
       "    <tr>\n",
       "      <th>11</th>\n",
       "      <td>edgeworth-parents.txt</td>\n",
       "      <td>195982</td>\n",
       "    </tr>\n",
       "    <tr>\n",
       "      <th>0</th>\n",
       "      <td>austen-emma.txt</td>\n",
       "      <td>164457</td>\n",
       "    </tr>\n",
       "    <tr>\n",
       "      <th>17</th>\n",
       "      <td>whitman-leaves.txt</td>\n",
       "      <td>138730</td>\n",
       "    </tr>\n",
       "    <tr>\n",
       "      <th>2</th>\n",
       "      <td>austen-sense.txt</td>\n",
       "      <td>123514</td>\n",
       "    </tr>\n",
       "    <tr>\n",
       "      <th>13</th>\n",
       "      <td>milton-paradise.txt</td>\n",
       "      <td>91832</td>\n",
       "    </tr>\n",
       "    <tr>\n",
       "      <th>8</th>\n",
       "      <td>chesterton-ball.txt</td>\n",
       "      <td>86481</td>\n",
       "    </tr>\n",
       "    <tr>\n",
       "      <th>1</th>\n",
       "      <td>austen-persuasion.txt</td>\n",
       "      <td>86270</td>\n",
       "    </tr>\n",
       "    <tr>\n",
       "      <th>9</th>\n",
       "      <td>chesterton-brown.txt</td>\n",
       "      <td>80382</td>\n",
       "    </tr>\n",
       "    <tr>\n",
       "      <th>10</th>\n",
       "      <td>chesterton-thursday.txt</td>\n",
       "      <td>59297</td>\n",
       "    </tr>\n",
       "    <tr>\n",
       "      <th>5</th>\n",
       "      <td>bryant-stories.txt</td>\n",
       "      <td>54942</td>\n",
       "    </tr>\n",
       "    <tr>\n",
       "      <th>15</th>\n",
       "      <td>shakespeare-hamlet.txt</td>\n",
       "      <td>33477</td>\n",
       "    </tr>\n",
       "    <tr>\n",
       "      <th>7</th>\n",
       "      <td>carroll-alice.txt</td>\n",
       "      <td>28387</td>\n",
       "    </tr>\n",
       "    <tr>\n",
       "      <th>14</th>\n",
       "      <td>shakespeare-caesar.txt</td>\n",
       "      <td>23339</td>\n",
       "    </tr>\n",
       "    <tr>\n",
       "      <th>16</th>\n",
       "      <td>shakespeare-macbeth.txt</td>\n",
       "      <td>20164</td>\n",
       "    </tr>\n",
       "    <tr>\n",
       "      <th>6</th>\n",
       "      <td>burgess-busterbrown.txt</td>\n",
       "      <td>17976</td>\n",
       "    </tr>\n",
       "    <tr>\n",
       "      <th>4</th>\n",
       "      <td>blake-poems.txt</td>\n",
       "      <td>8886</td>\n",
       "    </tr>\n",
       "  </tbody>\n",
       "</table>\n",
       "</div>"
      ],
      "text/plain": [
       "                     titles  numwords\n",
       "3             bible-kjv.txt    848001\n",
       "12   melville-moby_dick.txt    243947\n",
       "11    edgeworth-parents.txt    195982\n",
       "0           austen-emma.txt    164457\n",
       "17       whitman-leaves.txt    138730\n",
       "2          austen-sense.txt    123514\n",
       "13      milton-paradise.txt     91832\n",
       "8       chesterton-ball.txt     86481\n",
       "1     austen-persuasion.txt     86270\n",
       "9      chesterton-brown.txt     80382\n",
       "10  chesterton-thursday.txt     59297\n",
       "5        bryant-stories.txt     54942\n",
       "15   shakespeare-hamlet.txt     33477\n",
       "7         carroll-alice.txt     28387\n",
       "14   shakespeare-caesar.txt     23339\n",
       "16  shakespeare-macbeth.txt     20164\n",
       "6   burgess-busterbrown.txt     17976\n",
       "4           blake-poems.txt      8886"
      ]
     },
     "execution_count": 179,
     "metadata": {},
     "output_type": "execute_result"
    }
   ],
   "source": [
    "#sorting by wourd count\n",
    "#ascending=False to sort them from highest to lowest number\n",
    "\n",
    "df.sort_values(\"numwords\", ascending=False)"
   ]
  },
  {
   "cell_type": "markdown",
   "metadata": {},
   "source": [
    "## Challenge 3: what are the most frequent words?\n",
    "\n",
    "`nltk` has a built-in function called `FreqDist` which counts up how many times each word in a text occurs. So, if you have a list called `words` which contains all the words in a book, you can find the frequencies of all of them by writing `freq = nltk.FreqDist(words)`. You can then get the e.g. ten most common words by writing `freq.most_common(10)`. What are the ten most common words in Jane Austen's \"Emma\"? What about Herman Melville's \"Moby Dick\"?"
   ]
  },
  {
   "cell_type": "code",
   "execution_count": 187,
   "metadata": {},
   "outputs": [
    {
     "data": {
      "text/plain": [
       "[('the', 4522),\n",
       " ('to', 4497),\n",
       " ('', 3704),\n",
       " ('of', 3651),\n",
       " ('and', 3449),\n",
       " ('a', 2760),\n",
       " ('i', 2151),\n",
       " ('was', 2066),\n",
       " ('not', 1819),\n",
       " ('in', 1815)]"
      ]
     },
     "execution_count": 187,
     "metadata": {},
     "output_type": "execute_result"
    }
   ],
   "source": [
    "# starter code:\n",
    "\n",
    "book = nltk.corpus.gutenberg.raw('austen-emma.txt')\n",
    "words = book.lower()\n",
    "words = words.split(' ')\n",
    "\n",
    "#how do I get rid of space?\n",
    "\n",
    "freq = nltk.FreqDist(words)\n",
    "freq.most_common(10)\n"
   ]
  },
  {
   "cell_type": "code",
   "execution_count": 188,
   "metadata": {},
   "outputs": [
    {
     "data": {
      "text/plain": [
       "[('the', 11791),\n",
       " ('', 5719),\n",
       " ('of', 5709),\n",
       " ('and', 5232),\n",
       " ('to', 3978),\n",
       " ('a', 3949),\n",
       " ('in', 3533),\n",
       " ('that', 2327),\n",
       " ('his', 2061),\n",
       " ('it', 1503)]"
      ]
     },
     "execution_count": 188,
     "metadata": {},
     "output_type": "execute_result"
    }
   ],
   "source": [
    "#What are the ten most common words in \"Moby Dick\"?\n",
    "\n",
    "book = nltk.corpus.gutenberg.raw('melville-moby_dick.txt')\n",
    "words = book.lower()\n",
    "words = words.split(' ')\n",
    "freq = nltk.FreqDist(words)\n",
    "freq.most_common(10)\n"
   ]
  },
  {
   "cell_type": "markdown",
   "metadata": {},
   "source": [
    "## Challenge 4: Remove stopwords\n",
    "\n",
    "Often, the most frequent words are not the most interesting ones. Words like \"a\" and \"the\" are so common in English, that they don't really tell us much about the text. That is why we often remove \"stopwords\", that is, a list of the most common words in English, before e.g. counting frequencies. There are several of these lists available, in [English]((https://gist.github.com/sebleier/554280)) as well as other languages, such as [Danish](https://gist.github.com/berteltorp/0cf8a0c7afea7f25ed754f24cfc2467b). Below is some starter code to remove stopwords. Use these snippets to see what the most common words in Emma and Moby Dick are after removing these most common words.\n",
    "\n",
    "Hint: In Moby Dick, you will also have to remove the string `\\r`, in addition to removing `\\n`."
   ]
  },
  {
   "cell_type": "code",
   "execution_count": 6,
   "metadata": {},
   "outputs": [],
   "source": [
    "# list of stopwords\n",
    "\n",
    "stopwords = [\"a\", \"\", \"i\", \"me\", \"my\", \"myself\", \"we\", \"our\", \"ours\", \"ourselves\", \"you\", \"your\", \"yours\", \"yourself\", \"yourselves\", \"he\", \"him\", \"his\", \"himself\", \"she\", \"her\", \"hers\", \"herself\", \"it\", \"its\", \"itself\", \"they\", \"them\", \"their\", \"theirs\", \"themselves\", \"what\", \"which\", \"who\", \"whom\", \"this\", \"that\", \"these\", \"those\", \"am\", \"is\", \"are\", \"was\", \"were\", \"be\", \"been\", \"being\", \"have\", \"has\", \"had\", \"having\", \"do\", \"does\", \"did\", \"doing\", \"a\", \"an\", \"the\", \"and\", \"but\", \"if\", \"or\", \"because\", \"as\", \"until\", \"while\", \"of\", \"at\", \"by\", \"for\", \"with\", \"about\", \"against\", \"between\", \"into\", \"through\", \"during\", \"before\", \"after\", \"above\", \"below\", \"to\", \"from\", \"up\", \"down\", \"in\", \"out\", \"on\", \"off\", \"over\", \"under\", \"again\", \"further\", \"then\", \"once\", \"here\", \"there\", \"when\", \"where\", \"why\", \"how\", \"all\", \"any\", \"both\", \"each\", \"few\", \"more\", \"most\", \"other\", \"some\", \"such\", \"no\", \"nor\", \"not\", \"only\", \"own\", \"same\", \"so\", \"than\", \"too\", \"very\", \"s\", \"t\", \"can\", \"will\", \"just\", \"don\", \"should\", \"now\"]"
   ]
  },
  {
   "cell_type": "code",
   "execution_count": 8,
   "metadata": {},
   "outputs": [
    {
     "name": "stdout",
     "output_type": "stream",
     "text": [
      "[('mr.', 936), ('could', 686), ('would', 679), ('mrs.', 575), ('miss', 497), ('must', 473), ('much', 375), ('every', 363), ('said', 354), ('one', 327)]\n"
     ]
    }
   ],
   "source": [
    "# starter code:\n",
    "# finding the 10 most common words in Emma\n",
    "\n",
    "book = nltk.corpus.gutenberg.raw('austen-emma.txt')\n",
    "words = book.lower()\n",
    "words = words.split(' ')\n",
    "words = [word for word in words if word not in stopwords]\n",
    "freq = nltk.FreqDist(words)\n",
    "freq.most_common(10)\n",
    "\n",
    "print(freq.most_common(10))"
   ]
  },
  {
   "cell_type": "markdown",
   "metadata": {},
   "source": [
    "The most common words in Emma are:\n",
    "mr.\n",
    "could\n",
    "would\n",
    "mrs.\n",
    "miss\n",
    "must\n",
    "much\n",
    "every\n",
    "said\n",
    "one"
   ]
  },
  {
   "cell_type": "code",
   "execution_count": 9,
   "metadata": {},
   "outputs": [
    {
     "name": "stdout",
     "output_type": "stream",
     "text": [
      "[('one', 683), ('upon', 475), ('like', 469), ('whale', 455), ('old', 365), ('would', 349), ('though', 245), ('yet', 245), ('must', 236), ('said', 233)]\n"
     ]
    }
   ],
   "source": [
    "# doing the same thing for Moby Dick\n",
    "book = nltk.corpus.gutenberg.raw('melville-moby_dick.txt')\n",
    "words = book.lower()\n",
    "words = words.split(' ')\n",
    "words = [word for word in words if word not in stopwords]\n",
    "freq = nltk.FreqDist(words)\n",
    "freq.most_common(10)\n",
    "\n",
    "print(freq.most_common(10))"
   ]
  },
  {
   "cell_type": "markdown",
   "metadata": {},
   "source": [
    "The most common words in Moby Dick are:\n",
    "one\n",
    "upon\n",
    "like\n",
    "whale\n",
    "old\n",
    "would\n",
    "though\n",
    "yet\n",
    "must\n",
    "said"
   ]
  }
 ],
 "metadata": {
  "kernelspec": {
   "display_name": "Python 3 ",
   "language": "python",
   "name": "python3"
  },
  "language_info": {
   "codemirror_mode": {
    "name": "ipython",
    "version": 3
   },
   "file_extension": ".py",
   "mimetype": "text/x-python",
   "name": "python",
   "nbconvert_exporter": "python",
   "pygments_lexer": "ipython3",
   "version": "3.10.14"
  }
 },
 "nbformat": 4,
 "nbformat_minor": 4
}
