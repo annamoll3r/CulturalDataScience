{
 "cells": [
  {
   "cell_type": "markdown",
   "id": "ae71b7e2-758a-434c-8195-858dd6edf74e",
   "metadata": {},
   "source": [
    "hello world"
   ]
  },
  {
   "cell_type": "markdown",
   "id": "663f33d7-f4f0-4cf6-a9c3-55099a045f8c",
   "metadata": {},
   "source": [
    "This is a bit annoying"
   ]
  }
 ],
 "metadata": {
  "kernelspec": {
   "display_name": "Python 3 ",
   "language": "python",
   "name": "python3"
  },
  "language_info": {
   "codemirror_mode": {
    "name": "ipython",
    "version": 3
   },
   "file_extension": ".py",
   "mimetype": "text/x-python",
   "name": "python",
   "nbconvert_exporter": "python",
   "pygments_lexer": "ipython3",
   "version": "3.10.14"
  }
 },
 "nbformat": 4,
 "nbformat_minor": 5
}
