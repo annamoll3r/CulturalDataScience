{
 "cells": [
  {
   "cell_type": "markdown",
   "id": "2edcab51-e2e2-4dc3-95e4-e64fb6dadff6",
   "metadata": {},
   "source": [
    "# LSP chapter 8 notes"
   ]
  },
  {
   "cell_type": "code",
   "execution_count": 1,
   "id": "a6ebe0f3-32ea-412c-8726-2f7819286967",
   "metadata": {},
   "outputs": [
    {
     "name": "stdout",
     "output_type": "stream",
     "text": [
      "I have added 1 spoons of sugar\n",
      "I have added 2 spoons of sugar\n",
      "I have added 3 spoons of sugar\n"
     ]
    }
   ],
   "source": [
    "#While-loops:\n",
    "sweet_enough = 3\n",
    "num_sugar_spoons = 0\n",
    "while num_sugar_spoons < sweet_enough:\n",
    "    num_sugar_spoons = num_sugar_spoons + 1\n",
    "    print('I have added', num_sugar_spoons, 'spoons of sugar')"
   ]
  },
  {
   "cell_type": "code",
   "execution_count": 2,
   "id": "9174d423-0d4e-4222-ae68-558d2c180e2a",
   "metadata": {},
   "outputs": [],
   "source": [
    "# sweet_enough: end point, når loopet skal slutte\n",
    "# num_sugar_spoons: antal sugar-spoons til at starte med\n",
    "# loop fortsætter så længe (while) num_sugar_spoons er mindre end sweet_enough"
   ]
  },
  {
   "cell_type": "code",
   "execution_count": 3,
   "id": "dd09b79c-699a-4f20-abf0-ffce03c78143",
   "metadata": {},
   "outputs": [
    {
     "name": "stdout",
     "output_type": "stream",
     "text": [
      "I cracked an egg!\n",
      "I cracked an egg!\n",
      "I cracked an egg!\n"
     ]
    }
   ],
   "source": [
    "#For-loops:\n",
    "eggs = ['egg', 'egg', 'egg']\n",
    "\n",
    "for egg in eggs:\n",
    "    print('I cracked an egg!')"
   ]
  },
  {
   "cell_type": "code",
   "execution_count": null,
   "id": "ea08d642-915e-4160-9071-64fd2e4a5109",
   "metadata": {},
   "outputs": [],
   "source": [
    "#Let python do something FOR each item in the list"
   ]
  },
  {
   "cell_type": "code",
   "execution_count": 4,
   "id": "79f40ccb-c2cc-42a6-b540-8ef7403e5881",
   "metadata": {},
   "outputs": [
    {
     "name": "stdout",
     "output_type": "stream",
     "text": [
      "I added eggs\n",
      "I added flour\n",
      "I added sugar\n",
      "I added cinnamon\n",
      "I added salt\n"
     ]
    }
   ],
   "source": [
    "ingredients = ['eggs', 'flour', 'sugar', 'cinnamon', 'salt']\n",
    "\n",
    "for item in ingredients:\n",
    "    print('I added', item)"
   ]
  },
  {
   "cell_type": "code",
   "execution_count": 5,
   "id": "5304d8be-7f4c-44e9-b9d9-ef813c9a500d",
   "metadata": {},
   "outputs": [],
   "source": [
    "# for + in"
   ]
  },
  {
   "cell_type": "code",
   "execution_count": 12,
   "id": "678096c9-a60c-44b4-89f4-7053ed6a37a4",
   "metadata": {},
   "outputs": [
    {
     "name": "stdout",
     "output_type": "stream",
     "text": [
      "There are 4 letters in EGGS\n",
      "There are 5 letters in FLOUR\n",
      "There are 5 letters in SUGAR\n",
      "There are 8 letters in CINNAMON\n",
      "There are 4 letters in SALT\n"
     ]
    }
   ],
   "source": [
    "words = ['eggs', 'flour', 'sugar', 'cinnamon', 'salt']\n",
    "\n",
    "for word in words:\n",
    "    print('There are', len(word), 'letters in', word.upper())"
   ]
  },
  {
   "cell_type": "markdown",
   "id": "4ab51a00-8ccd-424f-8454-ccc09af7a312",
   "metadata": {},
   "source": [
    "Conditional statements"
   ]
  },
  {
   "cell_type": "code",
   "execution_count": 9,
   "id": "61da08f8-653a-42e7-98f1-4899ba4b2e74",
   "metadata": {},
   "outputs": [
    {
     "name": "stdout",
     "output_type": "stream",
     "text": [
      "Leave early!\n"
     ]
    }
   ],
   "source": [
    "day = 'Wednesday'\n",
    "\n",
    "if day == 'Wednesday':\n",
    "    print('Leave early!')"
   ]
  },
  {
   "cell_type": "code",
   "execution_count": 10,
   "id": "55a7d5e0-23ad-4383-bee9-b5b83d8b3d46",
   "metadata": {},
   "outputs": [
    {
     "name": "stdout",
     "output_type": "stream",
     "text": [
      "Today is Monday. You can leave at the normal time.\n",
      "Today is Tuesday. You can leave at the normal time.\n",
      "Today is Wednesday. You need to leave early!\n",
      "Today is Thursday. You can leave at the normal time.\n",
      "Today is Friday. You can leave at the normal time.\n",
      "Today is Saturday. You can leave at the normal time.\n",
      "Today is Sunday. You can leave at the normal time.\n"
     ]
    }
   ],
   "source": [
    "week = ['Monday', 'Tuesday', 'Wednesday', 'Thursday', 'Friday', 'Saturday', 'Sunday']\n",
    "for day in week:\n",
    "    if day == 'Wednesday':\n",
    "        print('Today is', day + '.', 'You need to leave early!')\n",
    "    else:\n",
    "        print('Today is', day + '.', 'You can leave at the normal time.')"
   ]
  },
  {
   "cell_type": "code",
   "execution_count": 11,
   "id": "1e36025f-f475-4321-a625-91806062c807",
   "metadata": {},
   "outputs": [
    {
     "name": "stdout",
     "output_type": "stream",
     "text": [
      "Today is Monday. You can leave at the normal time today.\n",
      "Today is Tuesday. You can leave at the normal time today.\n",
      "Today is Wednesday. You need to leave early!\n",
      "Today is Thursday. You can leave at the normal time today.\n",
      "Today is Friday. You can leave at the normal time today.\n",
      "Today is Saturday. You can sleep late!\n",
      "Today is Sunday. You can sleep late!\n"
     ]
    }
   ],
   "source": [
    "week = ['Monday', 'Tuesday', 'Wednesday', 'Thursday', 'Friday', 'Saturday', 'Sunday']\n",
    "\n",
    "for day in week:\n",
    "    if day == 'Wednesday':\n",
    "        print('Today is', day + '.', 'You need to leave early!')\n",
    "    elif day == 'Saturday' or day == 'Sunday':\n",
    "        print('Today is', day + '.', 'You can sleep late!')\n",
    "    else:\n",
    "        print('Today is', day + '.', 'You can leave at the normal time today.')"
   ]
  },
  {
   "cell_type": "markdown",
   "id": "b6d5fb61-64bf-4e06-a9e0-e167c34c1273",
   "metadata": {},
   "source": [
    "### Functions"
   ]
  },
  {
   "cell_type": "code",
   "execution_count": 1,
   "id": "90d9e140-474f-41ad-8a08-710b7614924d",
   "metadata": {},
   "outputs": [
    {
     "name": "stdout",
     "output_type": "stream",
     "text": [
      "There are 13 letters in PERSPICACIOUS\n"
     ]
    }
   ],
   "source": [
    "letter_count = 0\n",
    "for letter in 'perspicacious':\n",
    "    letter_count = letter_count + 1\n",
    "\n",
    "print('There are', letter_count, 'letters in PERSPICACIOUS')"
   ]
  },
  {
   "cell_type": "code",
   "execution_count": 2,
   "id": "1801c86a-7d8c-4731-8743-eed9e495176e",
   "metadata": {},
   "outputs": [],
   "source": [
    "#Altering code to make it useful to all words\n",
    "def measure_word(word):\n",
    "    letter_count = 0\n",
    "    for letter in word:\n",
    "        letter_count = letter_count + 1\n",
    "    print('There are', letter_count, 'letters in', word.upper())"
   ]
  },
  {
   "cell_type": "code",
   "execution_count": 4,
   "id": "4e9514ff-0580-4d59-9ecd-816df1843b47",
   "metadata": {},
   "outputs": [
    {
     "name": "stdout",
     "output_type": "stream",
     "text": [
      "There are 4 letters in DUCK\n"
     ]
    }
   ],
   "source": [
    "measure_word('duck')"
   ]
  },
  {
   "cell_type": "code",
   "execution_count": 5,
   "id": "1f74fa22-d28a-4b5c-8526-a1da3238f546",
   "metadata": {},
   "outputs": [
    {
     "name": "stdout",
     "output_type": "stream",
     "text": [
      "There are 2 letters in IF\n",
      "There are 3 letters in YOU\n",
      "There are 3 letters in SAY\n",
      "There are 2 letters in IT\n",
      "There are 4 letters in LOUD\n",
      "There are 6 letters in ENOUGH\n",
      "There are 3 letters in YOU\n",
      "There are 4 letters in WILL\n",
      "There are 6 letters in ALWAYS\n",
      "There are 5 letters in SOUND\n",
      "There are 10 letters in PRECOCIOUS\n"
     ]
    }
   ],
   "source": [
    "#Use the function for a loop\n",
    "\n",
    "words = [ 'If', 'you', 'say', 'it', 'loud', 'enough', 'you', 'will', 'always', 'sound', 'precocious']\n",
    "for word in words:\n",
    "    measure_word(word)"
   ]
  },
  {
   "cell_type": "code",
   "execution_count": 6,
   "id": "884978b0-fb8b-41d1-b792-30a411c31952",
   "metadata": {},
   "outputs": [],
   "source": [
    "#Ask code to return output instead of printing\n",
    "\n",
    "def measure_word(word):\n",
    "    letter_count = 0\n",
    "    for letter in word:\n",
    "        letter_count = letter_count + 1\n",
    "    return('There are', letter_count, 'letters in', word.upper())"
   ]
  },
  {
   "cell_type": "code",
   "execution_count": 7,
   "id": "c4565111-38ef-4e59-8a23-4222165f4147",
   "metadata": {},
   "outputs": [],
   "source": [
    "output = measure_word('duck')"
   ]
  },
  {
   "cell_type": "code",
   "execution_count": 8,
   "id": "ce5aca8f-9cb8-44d1-9254-d15b4278969f",
   "metadata": {},
   "outputs": [
    {
     "data": {
      "text/plain": [
       "tuple"
      ]
     },
     "execution_count": 8,
     "metadata": {},
     "output_type": "execute_result"
    }
   ],
   "source": [
    "type(output)"
   ]
  },
  {
   "cell_type": "code",
   "execution_count": 9,
   "id": "ac78e290-a564-4476-8c71-f11c11dfee80",
   "metadata": {},
   "outputs": [
    {
     "name": "stdout",
     "output_type": "stream",
     "text": [
      "('There are', 4, 'letters in', 'DUCK')\n"
     ]
    }
   ],
   "source": [
    "print(output)"
   ]
  },
  {
   "cell_type": "code",
   "execution_count": 13,
   "id": "b28f812f-629e-4da6-b864-91f8caa70f4b",
   "metadata": {},
   "outputs": [
    {
     "name": "stdout",
     "output_type": "stream",
     "text": [
      "4\n"
     ]
    }
   ],
   "source": [
    "#Getting number of letters only(in 1st position, python-counting)\n",
    "print(output[1])"
   ]
  },
  {
   "cell_type": "code",
   "execution_count": 15,
   "id": "e2839a6e-2655-41ab-b948-e264594213df",
   "metadata": {},
   "outputs": [
    {
     "data": {
      "text/plain": [
       "3"
      ]
     },
     "execution_count": 15,
     "metadata": {},
     "output_type": "execute_result"
    }
   ],
   "source": [
    "measure_word('cat')[1]"
   ]
  },
  {
   "cell_type": "code",
   "execution_count": 17,
   "id": "7d8771e6-7d26-4288-a9af-dc3cdb7b9cae",
   "metadata": {},
   "outputs": [],
   "source": [
    "#Get the function to do more than one thing\n",
    "def measure_word(word):\n",
    "    first_letter = word[0].lower()\n",
    "    letter_count = 0\n",
    "    for letter in word:\n",
    "        letter_count = letter_count + 1\n",
    "    return(word,first_letter, letter_count)"
   ]
  },
  {
   "cell_type": "code",
   "execution_count": 18,
   "id": "317b0c15-3337-44ee-ad24-9ded27f56796",
   "metadata": {},
   "outputs": [
    {
     "name": "stdout",
     "output_type": "stream",
     "text": [
      "('If', 'i', 2)\n",
      "('you', 'y', 3)\n",
      "('say', 's', 3)\n",
      "('it', 'i', 2)\n",
      "('loud', 'l', 4)\n",
      "('enough', 'e', 6)\n",
      "('you', 'y', 3)\n",
      "('will', 'w', 4)\n",
      "('always', 'a', 6)\n",
      "('sound', 's', 5)\n",
      "('precocious', 'p', 10)\n"
     ]
    }
   ],
   "source": [
    "words = [ 'If', 'you', 'say', 'it', 'loud', 'enough', 'you', 'will', 'always', 'sound', 'precocious']\n",
    "\n",
    "for word in words:\n",
    "    print(measure_word(word))"
   ]
  },
  {
   "cell_type": "code",
   "execution_count": 19,
   "id": "c68f61ba-0962-4831-9f58-02fe2933a22e",
   "metadata": {},
   "outputs": [
    {
     "name": "stdout",
     "output_type": "stream",
     "text": [
      "l\n",
      "e\n",
      "w\n",
      "a\n",
      "s\n",
      "p\n"
     ]
    }
   ],
   "source": [
    "#If we only wanted to know the first letter of words longer than 3\n",
    "\n",
    "for word in words:\n",
    "    if measure_word(word)[2] > 3:   #2 is letter_count in the return function, counting python-wise\n",
    "        print(measure_word(word)[1]) #1 is first_letter in return function, counting python-wise"
   ]
  },
  {
   "cell_type": "markdown",
   "id": "31ac6c36-7198-4beb-abf5-246c068713a6",
   "metadata": {},
   "source": [
    "### List comprehension"
   ]
  },
  {
   "cell_type": "code",
   "execution_count": 20,
   "id": "9549c383-d787-4809-8232-d90238b897af",
   "metadata": {},
   "outputs": [
    {
     "name": "stdout",
     "output_type": "stream",
     "text": [
      "['If', 'you', 'say', 'it', 'loud', 'enough', 'you', 'will', 'always', 'sound', 'precocious']\n"
     ]
    }
   ],
   "source": [
    "# New lists based on old lists\n",
    "# make a new list that has all the same elements as the old list\n",
    "\n",
    "words = [ 'If', 'you', 'say', 'it', 'loud', 'enough', 'you', 'will', 'always', 'sound', 'precocious']\n",
    "new_words = [x for x in words]\n",
    "print(new_words)"
   ]
  },
  {
   "cell_type": "code",
   "execution_count": 21,
   "id": "52f90c34-8cda-469d-a3fb-86c5c9512358",
   "metadata": {},
   "outputs": [
    {
     "name": "stdout",
     "output_type": "stream",
     "text": [
      "['you', 'loud', 'enough', 'you', 'sound', 'precocious']\n"
     ]
    }
   ],
   "source": [
    "# make a new list that contains all the words from the old list that have an \"o\" in them\n",
    "\n",
    "words = [ 'If', 'you', 'say', 'it', 'loud', 'enough', 'you', 'will', 'always', 'sound', 'precocious']\n",
    "new_words = [x for x in words if 'o' in x]\n",
    "print(new_words)"
   ]
  },
  {
   "cell_type": "code",
   "execution_count": 22,
   "id": "a1c10a84-1077-4ba6-9f3f-6b1f42f5a8c5",
   "metadata": {},
   "outputs": [
    {
     "name": "stdout",
     "output_type": "stream",
     "text": [
      "['loud', 'enough', 'will', 'always', 'sound', 'precocious']\n"
     ]
    }
   ],
   "source": [
    "# make a new list with only the words from the old list that are longer than 3 characters\n",
    "\n",
    "words = [ 'If', 'you', 'say', 'it', 'loud', 'enough', 'you', 'will', 'always', 'sound', 'precocious']\n",
    "new_words = [x for x in words if len(x)>3]\n",
    "print(new_words)"
   ]
  },
  {
   "cell_type": "code",
   "execution_count": 23,
   "id": "60230dfd-1b59-44cf-8359-dc781e90e0f2",
   "metadata": {},
   "outputs": [
    {
     "name": "stdout",
     "output_type": "stream",
     "text": [
      "['_If_', '_you_', '_say_', '_it_', '_loud_', '_enough_', '_you_', '_will_', '_always_', '_sound_', '_precocious_']\n"
     ]
    }
   ],
   "source": [
    "# make a new list with underscores before and after each word in the old list\n",
    "\n",
    "words = [ 'If', 'you', 'say', 'it', 'loud', 'enough', 'you', 'will', 'always', 'sound', 'precocious']\n",
    "new_words = ['_' + x + '_' for x in words]\n",
    "print(new_words)"
   ]
  },
  {
   "cell_type": "code",
   "execution_count": 25,
   "id": "192d5e1d-920e-4bb3-800c-970e8e7b3235",
   "metadata": {},
   "outputs": [
    {
     "name": "stdout",
     "output_type": "stream",
     "text": [
      "['_enough_', '_always_', '_sound_', '_precocious_']\n"
     ]
    }
   ],
   "source": [
    "# make a new list with underscores before and after each word in the old list if the word is longer than 4 characters\n",
    "\n",
    "words = [ 'If', 'you', 'say', 'it', 'loud', 'enough', 'you', 'will', 'always', 'sound', 'precocious']\n",
    "new_words = ['_' + x + '_' for x in words if len(x) > 4]\n",
    "print(new_words)"
   ]
  },
  {
   "cell_type": "code",
   "execution_count": 29,
   "id": "ae3c60ff-51d8-486d-8d32-8df01fa64f5a",
   "metadata": {},
   "outputs": [
    {
     "name": "stdout",
     "output_type": "stream",
     "text": [
      "['If', 'say', 'it', 'loud', 'will', 'always', 'precocious']\n"
     ]
    }
   ],
   "source": [
    "# compare two lists and make a new list with only words from the old list that are NOT in both lists\n",
    "\n",
    "words = [ 'If', 'you', 'say', 'it', 'loud', 'enough', 'you', 'will', 'always', 'sound', 'precocious']\n",
    "keywords = ['you', 'enough', 'sound', 'dog', 'bunny', 'nihilist']\n",
    "new_words = [ x for x in words if x not in keywords]\n",
    "print(new_words)\n"
   ]
  },
  {
   "cell_type": "code",
   "execution_count": 33,
   "id": "a7dfc477-24ed-4718-9b68-c48696f0a280",
   "metadata": {},
   "outputs": [
    {
     "name": "stdout",
     "output_type": "stream",
     "text": [
      "['101', '102', '103', '104', '105']\n"
     ]
    }
   ],
   "source": [
    "# add 100 to each number in the old list and convert the sum to a string in the new list\n",
    "\n",
    "numbers = [1, 2, 3, 4, 5]\n",
    "new_numbers = [str(x + 100) for x in numbers]\n",
    "print(new_numbers)"
   ]
  },
  {
   "cell_type": "code",
   "execution_count": 34,
   "id": "c30244c6-c5f8-4851-8eb5-515150b75b6e",
   "metadata": {},
   "outputs": [
    {
     "name": "stdout",
     "output_type": "stream",
     "text": [
      "[['1', '2', '3', '4'], ['5', '6', '7', '8']]\n"
     ]
    }
   ],
   "source": [
    "# convert integers to strings within a list of lists while still maintaining the list of list structure\n",
    "list_of_lists = [[1,2,3,4], [5,6,7,8]]\n",
    "list_of_string_lists = [[str(y) for y in x] for x in list_of_lists]\n",
    "print(list_of_string_lists)"
   ]
  },
  {
   "cell_type": "code",
   "execution_count": 35,
   "id": "c59e95e9-ce05-4087-adb9-da42fb2c5ab1",
   "metadata": {},
   "outputs": [
    {
     "name": "stdout",
     "output_type": "stream",
     "text": [
      "[[1, 2, 3, 4, 5, 6, 7, 8]]\n"
     ]
    }
   ],
   "source": [
    "\n",
    "# \"flatten\" a list of lists into a single list\n",
    "list_of_lists = [[1,2,3,4], [5,6,7,8]]\n",
    "flattened_lists = [[y for x in list_of_lists for y in x]]\n",
    "print(flattened_lists)"
   ]
  },
  {
   "cell_type": "code",
   "execution_count": 36,
   "id": "b9629ff1-7ca0-433a-bbcd-d424cd8f3302",
   "metadata": {},
   "outputs": [
    {
     "name": "stdout",
     "output_type": "stream",
     "text": [
      "[100, 200, 300, 400]\n"
     ]
    }
   ],
   "source": [
    "#You can also use list comprehension to overwrite old list\n",
    "numbers = [1, 2, 3, 4]\n",
    "numbers = [x*100 for x in numbers]\n",
    "print(numbers)"
   ]
  },
  {
   "cell_type": "markdown",
   "id": "9a1388c1-3ffe-472c-982b-efed198cbd97",
   "metadata": {},
   "source": [
    "### Nesting"
   ]
  },
  {
   "cell_type": "code",
   "execution_count": 37,
   "id": "d325e997-0dac-48bc-90d4-c7c6ab1cf9fa",
   "metadata": {},
   "outputs": [],
   "source": [
    "numbers = [4, 2, 54, 823452, 324, 2, 4435, 4, 9070878072634, 3421, 4345]"
   ]
  },
  {
   "cell_type": "code",
   "execution_count": 39,
   "id": "241b287d-7ee1-4f85-b0dd-8d96d5108dab",
   "metadata": {},
   "outputs": [
    {
     "name": "stdout",
     "output_type": "stream",
     "text": [
      "54\n",
      "823452\n",
      "324\n",
      "4435\n",
      "9070878072634\n",
      "3421\n",
      "4345\n"
     ]
    }
   ],
   "source": [
    "#Print numbers longer than one digit\n",
    "for x in numbers:\n",
    "    if len(str(x)) > 1:\n",
    "        print(x)"
   ]
  },
  {
   "cell_type": "code",
   "execution_count": 40,
   "id": "8772f213-2fc7-455e-bf2e-15dcd98f8d3a",
   "metadata": {},
   "outputs": [
    {
     "name": "stdout",
     "output_type": "stream",
     "text": [
      "4\n",
      "2\n",
      "54\n",
      "823452\n",
      "324\n",
      "2\n",
      "4\n",
      "9070878072634\n"
     ]
    }
   ],
   "source": [
    "#Check if numbers from list is an even number.\n",
    "#Use '%' the modulo operator, basically works like division, except it gives you the remainder. So if the remainder is 0\n",
    "#when divided by 2, you will know that it is an even number\n",
    "\n",
    "for num in numbers:\n",
    "    if num % 2 == 0:\n",
    "        print(num)"
   ]
  },
  {
   "cell_type": "code",
   "execution_count": 42,
   "id": "47ad9808-18c3-475d-ac86-5dc014f92f69",
   "metadata": {},
   "outputs": [
    {
     "name": "stdout",
     "output_type": "stream",
     "text": [
      "54\n",
      "823452\n",
      "324\n",
      "9070878072634\n"
     ]
    }
   ],
   "source": [
    "#Searching for numbers that are both even and have more than one digit\n",
    "for num in numbers:\n",
    "    if len(str(num)) > 1:\n",
    "        if num % 2 ==0:\n",
    "            print(num)\n",
    "\n",
    "#You can add 'if's as much as you like"
   ]
  },
  {
   "cell_type": "code",
   "execution_count": 45,
   "id": "a4ab6acd-5cef-49f5-a6c2-42fa896ddfd4",
   "metadata": {},
   "outputs": [
    {
     "name": "stdout",
     "output_type": "stream",
     "text": [
      "54\n",
      "324\n",
      "9070878072634\n"
     ]
    }
   ],
   "source": [
    "\n",
    "for num in numbers:\n",
    "    if len(str(num)) > 1:\n",
    "        if num % 2 ==0:\n",
    "            if int(str(num)[-1]) == 4:      #if the last digit is 4 ((-1) is the last digit). Can only take [-1] of a str\n",
    "                print(num)\n"
   ]
  },
  {
   "cell_type": "code",
   "execution_count": 46,
   "id": "a1df85a7-a32d-409b-a165-e87ad7f9c19a",
   "metadata": {},
   "outputs": [],
   "source": [
    "list_of_lists = [[1,2,3], [4,5,6], [7,8,9]]"
   ]
  },
  {
   "cell_type": "code",
   "execution_count": 47,
   "id": "784e7c9a-9a7b-49b8-b853-fc8f831abea5",
   "metadata": {},
   "outputs": [
    {
     "name": "stdout",
     "output_type": "stream",
     "text": [
      "11\n",
      "12\n",
      "13\n",
      "14\n",
      "15\n",
      "16\n",
      "17\n",
      "18\n",
      "19\n"
     ]
    }
   ],
   "source": [
    "for i in list_of_lists:\n",
    "    for j in i:\n",
    "        print(j+10)\n",
    "\n",
    "#i = list in list\n",
    "#j = item in list"
   ]
  },
  {
   "cell_type": "code",
   "execution_count": 50,
   "id": "5f34d5a8-8e4e-47ef-a981-a396da079fe2",
   "metadata": {},
   "outputs": [
    {
     "name": "stdout",
     "output_type": "stream",
     "text": [
      "11\n",
      "2\n",
      "13\n",
      "4\n",
      "15\n",
      "6\n",
      "17\n",
      "8\n",
      "19\n"
     ]
    }
   ],
   "source": [
    "#Adds 10 to odd numbers, not even\n",
    "for i in list_of_lists:\n",
    "    for j in i:\n",
    "        if j % 2 != 0:       #!= 'different from'\n",
    "            print(j+10)\n",
    "        else:\n",
    "            print(j)"
   ]
  },
  {
   "cell_type": "markdown",
   "id": "9f09fd84-3e4f-4f98-b073-72c31891cdc7",
   "metadata": {},
   "source": [
    "### Abstraction, generalization and patterns"
   ]
  },
  {
   "cell_type": "code",
   "execution_count": null,
   "id": "5e3774e3-fe50-47c4-862d-54e8e94d3e62",
   "metadata": {},
   "outputs": [],
   "source": [
    "#Set up variables outside a loop and then modify them from within the loop"
   ]
  },
  {
   "cell_type": "code",
   "execution_count": 53,
   "id": "9fa1621e-62da-4747-823a-5d7c4dc38525",
   "metadata": {},
   "outputs": [
    {
     "name": "stdout",
     "output_type": "stream",
     "text": [
      "['Begonias', 'Buttercups']\n"
     ]
    }
   ],
   "source": [
    "#Searching for flowers that starts with 'B'\n",
    "\n",
    "all_flowers = ['Begonias', 'Lilacs', 'Roses', 'Pansies', 'Foxgloves', 'Buttercups', 'Sunflowers']\n",
    "\n",
    "b_flowers = []\n",
    "\n",
    "for flower in all_flowers:\n",
    "    if flower.startswith('B'):\n",
    "        b_flowers.append(flower)      #appending the flowers which start with B to b_flowers-list\n",
    "\n",
    "print(b_flowers)"
   ]
  },
  {
   "cell_type": "code",
   "execution_count": 55,
   "id": "6a0f1a69-f8a4-4cfd-9e4d-95d2e7317638",
   "metadata": {},
   "outputs": [
    {
     "name": "stdout",
     "output_type": "stream",
     "text": [
      "['Begonias', 'Buttercups']\n"
     ]
    }
   ],
   "source": [
    "#Solve the problem with a list comprehension\n",
    "all_flowers = ['Begonias', 'Lilacs', 'Roses', 'Pansies', 'Foxgloves', 'Buttercups', 'Sunflowers']\n",
    "b_flowers = [x for x in all_flowers if x.startswith('B')]\n",
    "print(b_flowers)"
   ]
  },
  {
   "cell_type": "code",
   "execution_count": 56,
   "id": "fb707ab6-590c-4d3f-b491-091a30f95cf5",
   "metadata": {},
   "outputs": [],
   "source": [
    "#Generalize the append-code to a function\n",
    "\n",
    "def check_first_letter(input_list, target_letter):\n",
    "    output_list = []\n",
    "    for item in input_list:\n",
    "        if item.lower().startswith(target_letter.lower()):    #make all lowercase so it includes both upper and lower letters\n",
    "            output_list.append(item)\n",
    "    print(output_list)"
   ]
  },
  {
   "cell_type": "code",
   "execution_count": 57,
   "id": "dc84e26a-4c7b-4943-935a-85dddb49bf1f",
   "metadata": {},
   "outputs": [
    {
     "name": "stdout",
     "output_type": "stream",
     "text": [
      "['Begonias', 'Buttercups']\n"
     ]
    }
   ],
   "source": [
    "check_first_letter(all_flowers, 'b')"
   ]
  },
  {
   "cell_type": "code",
   "execution_count": 58,
   "id": "f779b174-a049-477a-bded-87c9cb3b95bc",
   "metadata": {},
   "outputs": [
    {
     "name": "stdout",
     "output_type": "stream",
     "text": [
      "['Pears', 'pickles', 'peppers', 'Pizza']\n"
     ]
    }
   ],
   "source": [
    "#Another example using the function\n",
    "\n",
    "foods = ['Pears', 'pickles', 'Beets', 'burgers', 'cheese', 'peppers', 'Pizza', 'bananas', 'cardamom', 'Cabbage']\n",
    "\n",
    "check_first_letter(foods, 'P')"
   ]
  }
 ],
 "metadata": {
  "kernelspec": {
   "display_name": "Python 3 ",
   "language": "python",
   "name": "python3"
  },
  "language_info": {
   "codemirror_mode": {
    "name": "ipython",
    "version": 3
   },
   "file_extension": ".py",
   "mimetype": "text/x-python",
   "name": "python",
   "nbconvert_exporter": "python",
   "pygments_lexer": "ipython3",
   "version": "3.10.14"
  }
 },
 "nbformat": 4,
 "nbformat_minor": 5
}
