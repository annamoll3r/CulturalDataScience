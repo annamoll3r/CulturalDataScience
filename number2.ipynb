{
 "cells": [
  {
   "cell_type": "markdown",
   "id": "adbb0129-d8fa-4e11-abf4-7f3193ad720d",
   "metadata": {},
   "source": [
    "this is a new one to test"
   ]
  },
  {
   "cell_type": "markdown",
   "id": "28423e96-716d-42d7-bfa4-79430eb4d47a",
   "metadata": {},
   "source": [
    "hellooooo"
   ]
  },
  {
   "cell_type": "code",
   "execution_count": null,
   "id": "59d203c8-9ac6-4254-a8b3-cc0ee19d0caf",
   "metadata": {},
   "outputs": [],
   "source": []
  }
 ],
 "metadata": {
  "kernelspec": {
   "display_name": "Python 3 ",
   "language": "python",
   "name": "python3"
  },
  "language_info": {
   "codemirror_mode": {
    "name": "ipython",
    "version": 3
   },
   "file_extension": ".py",
   "mimetype": "text/x-python",
   "name": "python",
   "nbconvert_exporter": "python",
   "pygments_lexer": "ipython3",
   "version": "3.10.14"
  }
 },
 "nbformat": 4,
 "nbformat_minor": 5
}
